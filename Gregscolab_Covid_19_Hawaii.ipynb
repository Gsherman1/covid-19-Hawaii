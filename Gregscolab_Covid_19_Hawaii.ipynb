{
  "nbformat": 4,
  "nbformat_minor": 0,
  "metadata": {
    "colab": {
      "name": "Gregscolab-Covid-19-Hawaii.ipynb",
      "provenance": [],
      "collapsed_sections": [],
      "include_colab_link": true
    },
    "kernelspec": {
      "name": "python3",
      "display_name": "Python 3"
    }
  },
  "cells": [
    {
      "cell_type": "markdown",
      "metadata": {
        "id": "view-in-github",
        "colab_type": "text"
      },
      "source": [
        "<a href=\"https://colab.research.google.com/github/Gsherman1/covid-19-Hawaii/blob/master/Gregscolab_Covid_19_Hawaii.ipynb\" target=\"_parent\"><img src=\"https://colab.research.google.com/assets/colab-badge.svg\" alt=\"Open In Colab\"/></a>"
      ]
    },
    {
      "cell_type": "markdown",
      "metadata": {
        "id": "10UY-A6kXDlS",
        "colab_type": "text"
      },
      "source": [
        ""
      ]
    },
    {
      "cell_type": "markdown",
      "metadata": {
        "id": "7CXyKDfqXNjs",
        "colab_type": "text"
      },
      "source": [
        "[link text](https://)Covid-19 Analysis - April 29, 2020\n",
        "**bold text**\n",
        "\n",
        "Source: The original code for the national data is from Noah Gift's book on Minimal Python. Github Source - https://github.com/debasisb/minimal-python/blob/master/Chapter7_data_science.ipynb\n"
      ]
    },
    {
      "cell_type": "markdown",
      "metadata": {
        "id": "8TjEPd1-XqRu",
        "colab_type": "text"
      },
      "source": [
        "Import pandas and create a dataframe df for the US Covid-19 data from the NY Times GitHub content"
      ]
    },
    {
      "cell_type": "code",
      "metadata": {
        "id": "I0nWZE0mLDIb",
        "colab_type": "code",
        "outputId": "a8a0019b-1705-4684-f8a8-5396bc818fa3",
        "colab": {
          "base_uri": "https://localhost:8080/",
          "height": 204
        }
      },
      "source": [
        "import pandas as pd\n",
        "df = pd.read_csv(\"https://raw.githubusercontent.com/nytimes/covid-19-data/master/us-states.csv\")\n",
        "df.head()"
      ],
      "execution_count": 38,
      "outputs": [
        {
          "output_type": "execute_result",
          "data": {
            "text/html": [
              "<div>\n",
              "<style scoped>\n",
              "    .dataframe tbody tr th:only-of-type {\n",
              "        vertical-align: middle;\n",
              "    }\n",
              "\n",
              "    .dataframe tbody tr th {\n",
              "        vertical-align: top;\n",
              "    }\n",
              "\n",
              "    .dataframe thead th {\n",
              "        text-align: right;\n",
              "    }\n",
              "</style>\n",
              "<table border=\"1\" class=\"dataframe\">\n",
              "  <thead>\n",
              "    <tr style=\"text-align: right;\">\n",
              "      <th></th>\n",
              "      <th>date</th>\n",
              "      <th>state</th>\n",
              "      <th>fips</th>\n",
              "      <th>cases</th>\n",
              "      <th>deaths</th>\n",
              "    </tr>\n",
              "  </thead>\n",
              "  <tbody>\n",
              "    <tr>\n",
              "      <th>0</th>\n",
              "      <td>2020-01-21</td>\n",
              "      <td>Washington</td>\n",
              "      <td>53</td>\n",
              "      <td>1</td>\n",
              "      <td>0</td>\n",
              "    </tr>\n",
              "    <tr>\n",
              "      <th>1</th>\n",
              "      <td>2020-01-22</td>\n",
              "      <td>Washington</td>\n",
              "      <td>53</td>\n",
              "      <td>1</td>\n",
              "      <td>0</td>\n",
              "    </tr>\n",
              "    <tr>\n",
              "      <th>2</th>\n",
              "      <td>2020-01-23</td>\n",
              "      <td>Washington</td>\n",
              "      <td>53</td>\n",
              "      <td>1</td>\n",
              "      <td>0</td>\n",
              "    </tr>\n",
              "    <tr>\n",
              "      <th>3</th>\n",
              "      <td>2020-01-24</td>\n",
              "      <td>Illinois</td>\n",
              "      <td>17</td>\n",
              "      <td>1</td>\n",
              "      <td>0</td>\n",
              "    </tr>\n",
              "    <tr>\n",
              "      <th>4</th>\n",
              "      <td>2020-01-24</td>\n",
              "      <td>Washington</td>\n",
              "      <td>53</td>\n",
              "      <td>1</td>\n",
              "      <td>0</td>\n",
              "    </tr>\n",
              "  </tbody>\n",
              "</table>\n",
              "</div>"
            ],
            "text/plain": [
              "         date       state  fips  cases  deaths\n",
              "0  2020-01-21  Washington    53      1       0\n",
              "1  2020-01-22  Washington    53      1       0\n",
              "2  2020-01-23  Washington    53      1       0\n",
              "3  2020-01-24    Illinois    17      1       0\n",
              "4  2020-01-24  Washington    53      1       0"
            ]
          },
          "metadata": {
            "tags": []
          },
          "execution_count": 38
        }
      ]
    },
    {
      "cell_type": "markdown",
      "metadata": {
        "id": "xkmPjZ1zbsk9",
        "colab_type": "text"
      },
      "source": [
        "## To visulize ratio of Cases & Deaths in Hawaii"
      ]
    },
    {
      "cell_type": "code",
      "metadata": {
        "id": "-tQi4PfjajrO",
        "colab_type": "code",
        "colab": {
          "base_uri": "https://localhost:8080/",
          "height": 296
        },
        "outputId": "e00539d2-986c-40d7-f0e7-b23fa92aad06"
      },
      "source": [
        "import seaborn as sns\n",
        "sns.scatterplot (x=\"cases\", y=\"deaths\", \n",
        "                hue=\"deaths\",size=\"deaths\", data=df[df[\"state\"] == \"Hawaii\"])"
      ],
      "execution_count": 40,
      "outputs": [
        {
          "output_type": "execute_result",
          "data": {
            "text/plain": [
              "<matplotlib.axes._subplots.AxesSubplot at 0x7f7e9b15a9b0>"
            ]
          },
          "metadata": {
            "tags": []
          },
          "execution_count": 40
        },
        {
          "output_type": "display_data",
          "data": {
            "image/png": "[encoded data removed]",
            "text/plain": [
              "<Figure size 432x288 with 1 Axes>"
            ]
          },
          "metadata": {
            "tags": [],
            "needs_background": "light"
          }
        }
      ]
    },
    {
      "cell_type": "markdown",
      "metadata": {
        "id": "FsWx0B8DiAEz",
        "colab_type": "text"
      },
      "source": [
        "## (Past 75 Days in Hawaii)"
      ]
    },
    {
      "cell_type": "code",
      "metadata": {
        "id": "iXcnT6sxerrP",
        "colab_type": "code",
        "outputId": "7fbc6e82-7771-4ffb-a003-01b0e700a435",
        "colab": {
          "base_uri": "https://localhost:8080/",
          "height": 1000
        }
      },
      "source": [
        "import pandas as pd\n",
        "df = pd.read_csv(\"https://raw.githubusercontent.com/nytimes/covid-19-data/master/us-states.csv\")\n",
        "Hawaii_df = df[df[\"state\"] == \"Hawaii\"].drop(columns=\"fips\").drop(columns=\"state\")\n",
        "Hawaii_df.tail(75)"
      ],
      "execution_count": 0,
      "outputs": [
        {
          "output_type": "execute_result",
          "data": {
            "text/html": [
              "<div>\n",
              "<style scoped>\n",
              "    .dataframe tbody tr th:only-of-type {\n",
              "        vertical-align: middle;\n",
              "    }\n",
              "\n",
              "    .dataframe tbody tr th {\n",
              "        vertical-align: top;\n",
              "    }\n",
              "\n",
              "    .dataframe thead th {\n",
              "        text-align: right;\n",
              "    }\n",
              "</style>\n",
              "<table border=\"1\" class=\"dataframe\">\n",
              "  <thead>\n",
              "    <tr style=\"text-align: right;\">\n",
              "      <th></th>\n",
              "      <th>date</th>\n",
              "      <th>cases</th>\n",
              "      <th>deaths</th>\n",
              "    </tr>\n",
              "  </thead>\n",
              "  <tbody>\n",
              "    <tr>\n",
              "      <th>327</th>\n",
              "      <td>2020-03-06</td>\n",
              "      <td>1</td>\n",
              "      <td>0</td>\n",
              "    </tr>\n",
              "    <tr>\n",
              "      <th>356</th>\n",
              "      <td>2020-03-07</td>\n",
              "      <td>1</td>\n",
              "      <td>0</td>\n",
              "    </tr>\n",
              "    <tr>\n",
              "      <th>390</th>\n",
              "      <td>2020-03-08</td>\n",
              "      <td>2</td>\n",
              "      <td>0</td>\n",
              "    </tr>\n",
              "    <tr>\n",
              "      <th>425</th>\n",
              "      <td>2020-03-09</td>\n",
              "      <td>2</td>\n",
              "      <td>0</td>\n",
              "    </tr>\n",
              "    <tr>\n",
              "      <th>462</th>\n",
              "      <td>2020-03-10</td>\n",
              "      <td>2</td>\n",
              "      <td>0</td>\n",
              "    </tr>\n",
              "    <tr>\n",
              "      <th>503</th>\n",
              "      <td>2020-03-11</td>\n",
              "      <td>2</td>\n",
              "      <td>0</td>\n",
              "    </tr>\n",
              "    <tr>\n",
              "      <th>549</th>\n",
              "      <td>2020-03-12</td>\n",
              "      <td>2</td>\n",
              "      <td>0</td>\n",
              "    </tr>\n",
              "    <tr>\n",
              "      <th>597</th>\n",
              "      <td>2020-03-13</td>\n",
              "      <td>2</td>\n",
              "      <td>0</td>\n",
              "    </tr>\n",
              "    <tr>\n",
              "      <th>648</th>\n",
              "      <td>2020-03-14</td>\n",
              "      <td>4</td>\n",
              "      <td>0</td>\n",
              "    </tr>\n",
              "    <tr>\n",
              "      <th>701</th>\n",
              "      <td>2020-03-15</td>\n",
              "      <td>7</td>\n",
              "      <td>0</td>\n",
              "    </tr>\n",
              "    <tr>\n",
              "      <th>754</th>\n",
              "      <td>2020-03-16</td>\n",
              "      <td>10</td>\n",
              "      <td>0</td>\n",
              "    </tr>\n",
              "    <tr>\n",
              "      <th>807</th>\n",
              "      <td>2020-03-17</td>\n",
              "      <td>14</td>\n",
              "      <td>0</td>\n",
              "    </tr>\n",
              "    <tr>\n",
              "      <th>861</th>\n",
              "      <td>2020-03-18</td>\n",
              "      <td>16</td>\n",
              "      <td>0</td>\n",
              "    </tr>\n",
              "    <tr>\n",
              "      <th>915</th>\n",
              "      <td>2020-03-19</td>\n",
              "      <td>26</td>\n",
              "      <td>0</td>\n",
              "    </tr>\n",
              "    <tr>\n",
              "      <th>969</th>\n",
              "      <td>2020-03-20</td>\n",
              "      <td>37</td>\n",
              "      <td>0</td>\n",
              "    </tr>\n",
              "    <tr>\n",
              "      <th>1023</th>\n",
              "      <td>2020-03-21</td>\n",
              "      <td>48</td>\n",
              "      <td>0</td>\n",
              "    </tr>\n",
              "    <tr>\n",
              "      <th>1077</th>\n",
              "      <td>2020-03-22</td>\n",
              "      <td>56</td>\n",
              "      <td>0</td>\n",
              "    </tr>\n",
              "    <tr>\n",
              "      <th>1131</th>\n",
              "      <td>2020-03-23</td>\n",
              "      <td>77</td>\n",
              "      <td>0</td>\n",
              "    </tr>\n",
              "    <tr>\n",
              "      <th>1185</th>\n",
              "      <td>2020-03-24</td>\n",
              "      <td>90</td>\n",
              "      <td>0</td>\n",
              "    </tr>\n",
              "    <tr>\n",
              "      <th>1239</th>\n",
              "      <td>2020-03-25</td>\n",
              "      <td>95</td>\n",
              "      <td>0</td>\n",
              "    </tr>\n",
              "    <tr>\n",
              "      <th>1293</th>\n",
              "      <td>2020-03-26</td>\n",
              "      <td>106</td>\n",
              "      <td>0</td>\n",
              "    </tr>\n",
              "    <tr>\n",
              "      <th>1347</th>\n",
              "      <td>2020-03-27</td>\n",
              "      <td>120</td>\n",
              "      <td>0</td>\n",
              "    </tr>\n",
              "    <tr>\n",
              "      <th>1401</th>\n",
              "      <td>2020-03-28</td>\n",
              "      <td>151</td>\n",
              "      <td>0</td>\n",
              "    </tr>\n",
              "    <tr>\n",
              "      <th>1456</th>\n",
              "      <td>2020-03-29</td>\n",
              "      <td>175</td>\n",
              "      <td>0</td>\n",
              "    </tr>\n",
              "    <tr>\n",
              "      <th>1511</th>\n",
              "      <td>2020-03-30</td>\n",
              "      <td>204</td>\n",
              "      <td>0</td>\n",
              "    </tr>\n",
              "    <tr>\n",
              "      <th>1566</th>\n",
              "      <td>2020-03-31</td>\n",
              "      <td>224</td>\n",
              "      <td>1</td>\n",
              "    </tr>\n",
              "    <tr>\n",
              "      <th>1621</th>\n",
              "      <td>2020-04-01</td>\n",
              "      <td>258</td>\n",
              "      <td>1</td>\n",
              "    </tr>\n",
              "    <tr>\n",
              "      <th>1676</th>\n",
              "      <td>2020-04-02</td>\n",
              "      <td>283</td>\n",
              "      <td>2</td>\n",
              "    </tr>\n",
              "    <tr>\n",
              "      <th>1731</th>\n",
              "      <td>2020-04-03</td>\n",
              "      <td>317</td>\n",
              "      <td>3</td>\n",
              "    </tr>\n",
              "    <tr>\n",
              "      <th>1786</th>\n",
              "      <td>2020-04-04</td>\n",
              "      <td>349</td>\n",
              "      <td>3</td>\n",
              "    </tr>\n",
              "    <tr>\n",
              "      <th>1841</th>\n",
              "      <td>2020-04-05</td>\n",
              "      <td>369</td>\n",
              "      <td>4</td>\n",
              "    </tr>\n",
              "    <tr>\n",
              "      <th>1896</th>\n",
              "      <td>2020-04-06</td>\n",
              "      <td>385</td>\n",
              "      <td>5</td>\n",
              "    </tr>\n",
              "    <tr>\n",
              "      <th>1951</th>\n",
              "      <td>2020-04-07</td>\n",
              "      <td>408</td>\n",
              "      <td>5</td>\n",
              "    </tr>\n",
              "    <tr>\n",
              "      <th>2006</th>\n",
              "      <td>2020-04-08</td>\n",
              "      <td>433</td>\n",
              "      <td>5</td>\n",
              "    </tr>\n",
              "    <tr>\n",
              "      <th>2061</th>\n",
              "      <td>2020-04-09</td>\n",
              "      <td>440</td>\n",
              "      <td>6</td>\n",
              "    </tr>\n",
              "    <tr>\n",
              "      <th>2116</th>\n",
              "      <td>2020-04-10</td>\n",
              "      <td>463</td>\n",
              "      <td>8</td>\n",
              "    </tr>\n",
              "    <tr>\n",
              "      <th>2171</th>\n",
              "      <td>2020-04-11</td>\n",
              "      <td>484</td>\n",
              "      <td>8</td>\n",
              "    </tr>\n",
              "    <tr>\n",
              "      <th>2226</th>\n",
              "      <td>2020-04-12</td>\n",
              "      <td>497</td>\n",
              "      <td>9</td>\n",
              "    </tr>\n",
              "    <tr>\n",
              "      <th>2281</th>\n",
              "      <td>2020-04-13</td>\n",
              "      <td>502</td>\n",
              "      <td>9</td>\n",
              "    </tr>\n",
              "    <tr>\n",
              "      <th>2336</th>\n",
              "      <td>2020-04-14</td>\n",
              "      <td>511</td>\n",
              "      <td>9</td>\n",
              "    </tr>\n",
              "    <tr>\n",
              "      <th>2391</th>\n",
              "      <td>2020-04-15</td>\n",
              "      <td>524</td>\n",
              "      <td>9</td>\n",
              "    </tr>\n",
              "    <tr>\n",
              "      <th>2446</th>\n",
              "      <td>2020-04-16</td>\n",
              "      <td>535</td>\n",
              "      <td>9</td>\n",
              "    </tr>\n",
              "    <tr>\n",
              "      <th>2501</th>\n",
              "      <td>2020-04-17</td>\n",
              "      <td>547</td>\n",
              "      <td>9</td>\n",
              "    </tr>\n",
              "    <tr>\n",
              "      <th>2556</th>\n",
              "      <td>2020-04-18</td>\n",
              "      <td>568</td>\n",
              "      <td>9</td>\n",
              "    </tr>\n",
              "    <tr>\n",
              "      <th>2611</th>\n",
              "      <td>2020-04-19</td>\n",
              "      <td>574</td>\n",
              "      <td>10</td>\n",
              "    </tr>\n",
              "    <tr>\n",
              "      <th>2666</th>\n",
              "      <td>2020-04-20</td>\n",
              "      <td>578</td>\n",
              "      <td>10</td>\n",
              "    </tr>\n",
              "    <tr>\n",
              "      <th>2721</th>\n",
              "      <td>2020-04-21</td>\n",
              "      <td>580</td>\n",
              "      <td>12</td>\n",
              "    </tr>\n",
              "    <tr>\n",
              "      <th>2776</th>\n",
              "      <td>2020-04-22</td>\n",
              "      <td>586</td>\n",
              "      <td>12</td>\n",
              "    </tr>\n",
              "    <tr>\n",
              "      <th>2831</th>\n",
              "      <td>2020-04-23</td>\n",
              "      <td>590</td>\n",
              "      <td>12</td>\n",
              "    </tr>\n",
              "    <tr>\n",
              "      <th>2886</th>\n",
              "      <td>2020-04-24</td>\n",
              "      <td>595</td>\n",
              "      <td>13</td>\n",
              "    </tr>\n",
              "    <tr>\n",
              "      <th>2941</th>\n",
              "      <td>2020-04-25</td>\n",
              "      <td>597</td>\n",
              "      <td>14</td>\n",
              "    </tr>\n",
              "    <tr>\n",
              "      <th>2996</th>\n",
              "      <td>2020-04-26</td>\n",
              "      <td>599</td>\n",
              "      <td>14</td>\n",
              "    </tr>\n",
              "    <tr>\n",
              "      <th>3051</th>\n",
              "      <td>2020-04-27</td>\n",
              "      <td>600</td>\n",
              "      <td>16</td>\n",
              "    </tr>\n",
              "    <tr>\n",
              "      <th>3106</th>\n",
              "      <td>2020-04-28</td>\n",
              "      <td>602</td>\n",
              "      <td>16</td>\n",
              "    </tr>\n",
              "    <tr>\n",
              "      <th>3161</th>\n",
              "      <td>2020-04-29</td>\n",
              "      <td>605</td>\n",
              "      <td>16</td>\n",
              "    </tr>\n",
              "  </tbody>\n",
              "</table>\n",
              "</div>"
            ],
            "text/plain": [
              "            date  cases  deaths\n",
              "327   2020-03-06      1       0\n",
              "356   2020-03-07      1       0\n",
              "390   2020-03-08      2       0\n",
              "425   2020-03-09      2       0\n",
              "462   2020-03-10      2       0\n",
              "503   2020-03-11      2       0\n",
              "549   2020-03-12      2       0\n",
              "597   2020-03-13      2       0\n",
              "648   2020-03-14      4       0\n",
              "701   2020-03-15      7       0\n",
              "754   2020-03-16     10       0\n",
              "807   2020-03-17     14       0\n",
              "861   2020-03-18     16       0\n",
              "915   2020-03-19     26       0\n",
              "969   2020-03-20     37       0\n",
              "1023  2020-03-21     48       0\n",
              "1077  2020-03-22     56       0\n",
              "1131  2020-03-23     77       0\n",
              "1185  2020-03-24     90       0\n",
              "1239  2020-03-25     95       0\n",
              "1293  2020-03-26    106       0\n",
              "1347  2020-03-27    120       0\n",
              "1401  2020-03-28    151       0\n",
              "1456  2020-03-29    175       0\n",
              "1511  2020-03-30    204       0\n",
              "1566  2020-03-31    224       1\n",
              "1621  2020-04-01    258       1\n",
              "1676  2020-04-02    283       2\n",
              "1731  2020-04-03    317       3\n",
              "1786  2020-04-04    349       3\n",
              "1841  2020-04-05    369       4\n",
              "1896  2020-04-06    385       5\n",
              "1951  2020-04-07    408       5\n",
              "2006  2020-04-08    433       5\n",
              "2061  2020-04-09    440       6\n",
              "2116  2020-04-10    463       8\n",
              "2171  2020-04-11    484       8\n",
              "2226  2020-04-12    497       9\n",
              "2281  2020-04-13    502       9\n",
              "2336  2020-04-14    511       9\n",
              "2391  2020-04-15    524       9\n",
              "2446  2020-04-16    535       9\n",
              "2501  2020-04-17    547       9\n",
              "2556  2020-04-18    568       9\n",
              "2611  2020-04-19    574      10\n",
              "2666  2020-04-20    578      10\n",
              "2721  2020-04-21    580      12\n",
              "2776  2020-04-22    586      12\n",
              "2831  2020-04-23    590      12\n",
              "2886  2020-04-24    595      13\n",
              "2941  2020-04-25    597      14\n",
              "2996  2020-04-26    599      14\n",
              "3051  2020-04-27    600      16\n",
              "3106  2020-04-28    602      16\n",
              "3161  2020-04-29    605      16"
            ]
          },
          "metadata": {
            "tags": []
          },
          "execution_count": 38
        }
      ]
    },
    {
      "cell_type": "markdown",
      "metadata": {
        "id": "9u37b7VhM2Vk",
        "colab_type": "text"
      },
      "source": [
        "## Maui County Cases & Deaths"
      ]
    },
    {
      "cell_type": "code",
      "metadata": {
        "id": "mxLSsvUNM4us",
        "colab_type": "code",
        "outputId": "2d02b071-4fe2-437a-85f4-f9f7d8babcfa",
        "colab": {
          "base_uri": "https://localhost:8080/",
          "height": 514
        }
      },
      "source": [
        "import pandas as pd\n",
        "df = pd.read_csv(\"https://raw.githubusercontent.com/nytimes/covid-19-data/master/us-counties.csv\")\n",
        "df = df[df[\"county\"] == \"Maui\"].drop(columns=\"fips\").drop(columns=\"state\").drop(columns=\"county\")\n",
        "df.tail(15)"
      ],
      "execution_count": 6,
      "outputs": [
        {
          "output_type": "execute_result",
          "data": {
            "text/html": [
              "<div>\n",
              "<style scoped>\n",
              "    .dataframe tbody tr th:only-of-type {\n",
              "        vertical-align: middle;\n",
              "    }\n",
              "\n",
              "    .dataframe tbody tr th {\n",
              "        vertical-align: top;\n",
              "    }\n",
              "\n",
              "    .dataframe thead th {\n",
              "        text-align: right;\n",
              "    }\n",
              "</style>\n",
              "<table border=\"1\" class=\"dataframe\">\n",
              "  <thead>\n",
              "    <tr style=\"text-align: right;\">\n",
              "      <th></th>\n",
              "      <th>date</th>\n",
              "      <th>cases</th>\n",
              "      <th>deaths</th>\n",
              "    </tr>\n",
              "  </thead>\n",
              "  <tbody>\n",
              "    <tr>\n",
              "      <th>59764</th>\n",
              "      <td>2020-04-15</td>\n",
              "      <td>92</td>\n",
              "      <td>3</td>\n",
              "    </tr>\n",
              "    <tr>\n",
              "      <th>62488</th>\n",
              "      <td>2020-04-16</td>\n",
              "      <td>95</td>\n",
              "      <td>3</td>\n",
              "    </tr>\n",
              "    <tr>\n",
              "      <th>65223</th>\n",
              "      <td>2020-04-17</td>\n",
              "      <td>102</td>\n",
              "      <td>3</td>\n",
              "    </tr>\n",
              "    <tr>\n",
              "      <th>67973</th>\n",
              "      <td>2020-04-18</td>\n",
              "      <td>104</td>\n",
              "      <td>3</td>\n",
              "    </tr>\n",
              "    <tr>\n",
              "      <th>70735</th>\n",
              "      <td>2020-04-19</td>\n",
              "      <td>106</td>\n",
              "      <td>4</td>\n",
              "    </tr>\n",
              "    <tr>\n",
              "      <th>73505</th>\n",
              "      <td>2020-04-20</td>\n",
              "      <td>108</td>\n",
              "      <td>4</td>\n",
              "    </tr>\n",
              "    <tr>\n",
              "      <th>76282</th>\n",
              "      <td>2020-04-21</td>\n",
              "      <td>110</td>\n",
              "      <td>5</td>\n",
              "    </tr>\n",
              "    <tr>\n",
              "      <th>79065</th>\n",
              "      <td>2020-04-22</td>\n",
              "      <td>110</td>\n",
              "      <td>5</td>\n",
              "    </tr>\n",
              "    <tr>\n",
              "      <th>81861</th>\n",
              "      <td>2020-04-23</td>\n",
              "      <td>112</td>\n",
              "      <td>5</td>\n",
              "    </tr>\n",
              "    <tr>\n",
              "      <th>84662</th>\n",
              "      <td>2020-04-24</td>\n",
              "      <td>113</td>\n",
              "      <td>5</td>\n",
              "    </tr>\n",
              "    <tr>\n",
              "      <th>87473</th>\n",
              "      <td>2020-04-25</td>\n",
              "      <td>112</td>\n",
              "      <td>5</td>\n",
              "    </tr>\n",
              "    <tr>\n",
              "      <th>90292</th>\n",
              "      <td>2020-04-26</td>\n",
              "      <td>112</td>\n",
              "      <td>5</td>\n",
              "    </tr>\n",
              "    <tr>\n",
              "      <th>93112</th>\n",
              "      <td>2020-04-27</td>\n",
              "      <td>113</td>\n",
              "      <td>5</td>\n",
              "    </tr>\n",
              "    <tr>\n",
              "      <th>95943</th>\n",
              "      <td>2020-04-28</td>\n",
              "      <td>115</td>\n",
              "      <td>5</td>\n",
              "    </tr>\n",
              "    <tr>\n",
              "      <th>98784</th>\n",
              "      <td>2020-04-29</td>\n",
              "      <td>115</td>\n",
              "      <td>5</td>\n",
              "    </tr>\n",
              "  </tbody>\n",
              "</table>\n",
              "</div>"
            ],
            "text/plain": [
              "             date  cases  deaths\n",
              "59764  2020-04-15     92       3\n",
              "62488  2020-04-16     95       3\n",
              "65223  2020-04-17    102       3\n",
              "67973  2020-04-18    104       3\n",
              "70735  2020-04-19    106       4\n",
              "73505  2020-04-20    108       4\n",
              "76282  2020-04-21    110       5\n",
              "79065  2020-04-22    110       5\n",
              "81861  2020-04-23    112       5\n",
              "84662  2020-04-24    113       5\n",
              "87473  2020-04-25    112       5\n",
              "90292  2020-04-26    112       5\n",
              "93112  2020-04-27    113       5\n",
              "95943  2020-04-28    115       5\n",
              "98784  2020-04-29    115       5"
            ]
          },
          "metadata": {
            "tags": []
          },
          "execution_count": 6
        }
      ]
    },
    {
      "cell_type": "markdown",
      "metadata": {
        "id": "2_skgaNjYJY9",
        "colab_type": "text"
      },
      "source": [
        "Graph to visualize Cases to Deaths Ratio in Hawaii"
      ]
    },
    {
      "cell_type": "markdown",
      "metadata": {
        "id": "MZvYQpMwfYig",
        "colab_type": "text"
      },
      "source": [
        "Deaths & Cases by County in Hawaii (Past 7 Days)\n",
        "---\n",
        "\n"
      ]
    },
    {
      "cell_type": "code",
      "metadata": {
        "id": "WRSNLaNAiJ1i",
        "colab_type": "code",
        "outputId": "01485d3f-f90b-4eb0-e715-80bf3935fb03",
        "colab": {
          "base_uri": "https://localhost:8080/",
          "height": 979
        }
      },
      "source": [
        "import pandas as pd\n",
        "df = pd.read_csv(\"https://raw.githubusercontent.com/nytimes/covid-19-data/master/us-counties.csv\")\n",
        "df = df[df[\"state\"] == \"Hawaii\"].drop(columns=\"fips\").drop(columns=\"state\")\n",
        "df.tail(30)"
      ],
      "execution_count": 0,
      "outputs": [
        {
          "output_type": "execute_result",
          "data": {
            "text/html": [
              "<div>\n",
              "<style scoped>\n",
              "    .dataframe tbody tr th:only-of-type {\n",
              "        vertical-align: middle;\n",
              "    }\n",
              "\n",
              "    .dataframe tbody tr th {\n",
              "        vertical-align: top;\n",
              "    }\n",
              "\n",
              "    .dataframe thead th {\n",
              "        text-align: right;\n",
              "    }\n",
              "</style>\n",
              "<table border=\"1\" class=\"dataframe\">\n",
              "  <thead>\n",
              "    <tr style=\"text-align: right;\">\n",
              "      <th></th>\n",
              "      <th>date</th>\n",
              "      <th>county</th>\n",
              "      <th>cases</th>\n",
              "      <th>deaths</th>\n",
              "    </tr>\n",
              "  </thead>\n",
              "  <tbody>\n",
              "    <tr>\n",
              "      <th>79064</th>\n",
              "      <td>2020-04-22</td>\n",
              "      <td>Kauai</td>\n",
              "      <td>21</td>\n",
              "      <td>0</td>\n",
              "    </tr>\n",
              "    <tr>\n",
              "      <th>79065</th>\n",
              "      <td>2020-04-22</td>\n",
              "      <td>Maui</td>\n",
              "      <td>110</td>\n",
              "      <td>5</td>\n",
              "    </tr>\n",
              "    <tr>\n",
              "      <th>81858</th>\n",
              "      <td>2020-04-23</td>\n",
              "      <td>Hawaii</td>\n",
              "      <td>68</td>\n",
              "      <td>0</td>\n",
              "    </tr>\n",
              "    <tr>\n",
              "      <th>81859</th>\n",
              "      <td>2020-04-23</td>\n",
              "      <td>Honolulu</td>\n",
              "      <td>389</td>\n",
              "      <td>7</td>\n",
              "    </tr>\n",
              "    <tr>\n",
              "      <th>81860</th>\n",
              "      <td>2020-04-23</td>\n",
              "      <td>Kauai</td>\n",
              "      <td>21</td>\n",
              "      <td>0</td>\n",
              "    </tr>\n",
              "    <tr>\n",
              "      <th>81861</th>\n",
              "      <td>2020-04-23</td>\n",
              "      <td>Maui</td>\n",
              "      <td>112</td>\n",
              "      <td>5</td>\n",
              "    </tr>\n",
              "    <tr>\n",
              "      <th>84659</th>\n",
              "      <td>2020-04-24</td>\n",
              "      <td>Hawaii</td>\n",
              "      <td>69</td>\n",
              "      <td>0</td>\n",
              "    </tr>\n",
              "    <tr>\n",
              "      <th>84660</th>\n",
              "      <td>2020-04-24</td>\n",
              "      <td>Honolulu</td>\n",
              "      <td>392</td>\n",
              "      <td>8</td>\n",
              "    </tr>\n",
              "    <tr>\n",
              "      <th>84661</th>\n",
              "      <td>2020-04-24</td>\n",
              "      <td>Kauai</td>\n",
              "      <td>21</td>\n",
              "      <td>0</td>\n",
              "    </tr>\n",
              "    <tr>\n",
              "      <th>84662</th>\n",
              "      <td>2020-04-24</td>\n",
              "      <td>Maui</td>\n",
              "      <td>113</td>\n",
              "      <td>5</td>\n",
              "    </tr>\n",
              "    <tr>\n",
              "      <th>87470</th>\n",
              "      <td>2020-04-25</td>\n",
              "      <td>Hawaii</td>\n",
              "      <td>69</td>\n",
              "      <td>0</td>\n",
              "    </tr>\n",
              "    <tr>\n",
              "      <th>87471</th>\n",
              "      <td>2020-04-25</td>\n",
              "      <td>Honolulu</td>\n",
              "      <td>395</td>\n",
              "      <td>9</td>\n",
              "    </tr>\n",
              "    <tr>\n",
              "      <th>87472</th>\n",
              "      <td>2020-04-25</td>\n",
              "      <td>Kauai</td>\n",
              "      <td>21</td>\n",
              "      <td>0</td>\n",
              "    </tr>\n",
              "    <tr>\n",
              "      <th>87473</th>\n",
              "      <td>2020-04-25</td>\n",
              "      <td>Maui</td>\n",
              "      <td>112</td>\n",
              "      <td>5</td>\n",
              "    </tr>\n",
              "    <tr>\n",
              "      <th>90289</th>\n",
              "      <td>2020-04-26</td>\n",
              "      <td>Hawaii</td>\n",
              "      <td>70</td>\n",
              "      <td>0</td>\n",
              "    </tr>\n",
              "    <tr>\n",
              "      <th>90290</th>\n",
              "      <td>2020-04-26</td>\n",
              "      <td>Honolulu</td>\n",
              "      <td>396</td>\n",
              "      <td>9</td>\n",
              "    </tr>\n",
              "    <tr>\n",
              "      <th>90291</th>\n",
              "      <td>2020-04-26</td>\n",
              "      <td>Kauai</td>\n",
              "      <td>21</td>\n",
              "      <td>0</td>\n",
              "    </tr>\n",
              "    <tr>\n",
              "      <th>90292</th>\n",
              "      <td>2020-04-26</td>\n",
              "      <td>Maui</td>\n",
              "      <td>112</td>\n",
              "      <td>5</td>\n",
              "    </tr>\n",
              "    <tr>\n",
              "      <th>93109</th>\n",
              "      <td>2020-04-27</td>\n",
              "      <td>Hawaii</td>\n",
              "      <td>70</td>\n",
              "      <td>0</td>\n",
              "    </tr>\n",
              "    <tr>\n",
              "      <th>93110</th>\n",
              "      <td>2020-04-27</td>\n",
              "      <td>Honolulu</td>\n",
              "      <td>396</td>\n",
              "      <td>11</td>\n",
              "    </tr>\n",
              "    <tr>\n",
              "      <th>93111</th>\n",
              "      <td>2020-04-27</td>\n",
              "      <td>Kauai</td>\n",
              "      <td>21</td>\n",
              "      <td>0</td>\n",
              "    </tr>\n",
              "    <tr>\n",
              "      <th>93112</th>\n",
              "      <td>2020-04-27</td>\n",
              "      <td>Maui</td>\n",
              "      <td>113</td>\n",
              "      <td>5</td>\n",
              "    </tr>\n",
              "    <tr>\n",
              "      <th>95940</th>\n",
              "      <td>2020-04-28</td>\n",
              "      <td>Hawaii</td>\n",
              "      <td>70</td>\n",
              "      <td>0</td>\n",
              "    </tr>\n",
              "    <tr>\n",
              "      <th>95941</th>\n",
              "      <td>2020-04-28</td>\n",
              "      <td>Honolulu</td>\n",
              "      <td>396</td>\n",
              "      <td>11</td>\n",
              "    </tr>\n",
              "    <tr>\n",
              "      <th>95942</th>\n",
              "      <td>2020-04-28</td>\n",
              "      <td>Kauai</td>\n",
              "      <td>21</td>\n",
              "      <td>0</td>\n",
              "    </tr>\n",
              "    <tr>\n",
              "      <th>95943</th>\n",
              "      <td>2020-04-28</td>\n",
              "      <td>Maui</td>\n",
              "      <td>115</td>\n",
              "      <td>5</td>\n",
              "    </tr>\n",
              "    <tr>\n",
              "      <th>98781</th>\n",
              "      <td>2020-04-29</td>\n",
              "      <td>Hawaii</td>\n",
              "      <td>70</td>\n",
              "      <td>0</td>\n",
              "    </tr>\n",
              "    <tr>\n",
              "      <th>98782</th>\n",
              "      <td>2020-04-29</td>\n",
              "      <td>Honolulu</td>\n",
              "      <td>399</td>\n",
              "      <td>11</td>\n",
              "    </tr>\n",
              "    <tr>\n",
              "      <th>98783</th>\n",
              "      <td>2020-04-29</td>\n",
              "      <td>Kauai</td>\n",
              "      <td>21</td>\n",
              "      <td>0</td>\n",
              "    </tr>\n",
              "    <tr>\n",
              "      <th>98784</th>\n",
              "      <td>2020-04-29</td>\n",
              "      <td>Maui</td>\n",
              "      <td>115</td>\n",
              "      <td>5</td>\n",
              "    </tr>\n",
              "  </tbody>\n",
              "</table>\n",
              "</div>"
            ],
            "text/plain": [
              "             date    county  cases  deaths\n",
              "79064  2020-04-22     Kauai     21       0\n",
              "79065  2020-04-22      Maui    110       5\n",
              "81858  2020-04-23    Hawaii     68       0\n",
              "81859  2020-04-23  Honolulu    389       7\n",
              "81860  2020-04-23     Kauai     21       0\n",
              "81861  2020-04-23      Maui    112       5\n",
              "84659  2020-04-24    Hawaii     69       0\n",
              "84660  2020-04-24  Honolulu    392       8\n",
              "84661  2020-04-24     Kauai     21       0\n",
              "84662  2020-04-24      Maui    113       5\n",
              "87470  2020-04-25    Hawaii     69       0\n",
              "87471  2020-04-25  Honolulu    395       9\n",
              "87472  2020-04-25     Kauai     21       0\n",
              "87473  2020-04-25      Maui    112       5\n",
              "90289  2020-04-26    Hawaii     70       0\n",
              "90290  2020-04-26  Honolulu    396       9\n",
              "90291  2020-04-26     Kauai     21       0\n",
              "90292  2020-04-26      Maui    112       5\n",
              "93109  2020-04-27    Hawaii     70       0\n",
              "93110  2020-04-27  Honolulu    396      11\n",
              "93111  2020-04-27     Kauai     21       0\n",
              "93112  2020-04-27      Maui    113       5\n",
              "95940  2020-04-28    Hawaii     70       0\n",
              "95941  2020-04-28  Honolulu    396      11\n",
              "95942  2020-04-28     Kauai     21       0\n",
              "95943  2020-04-28      Maui    115       5\n",
              "98781  2020-04-29    Hawaii     70       0\n",
              "98782  2020-04-29  Honolulu    399      11\n",
              "98783  2020-04-29     Kauai     21       0\n",
              "98784  2020-04-29      Maui    115       5"
            ]
          },
          "metadata": {
            "tags": []
          },
          "execution_count": 30
        }
      ]
    },
    {
      "cell_type": "code",
      "metadata": {
        "id": "SRmF3lYkXUFB",
        "colab_type": "code",
        "colab": {}
      },
      "source": [
        ""
      ],
      "execution_count": 0,
      "outputs": []
    },
    {
      "cell_type": "markdown",
      "metadata": {
        "id": "UIdyIaYaX49x",
        "colab_type": "text"
      },
      "source": [
        "Display the columns of the data frame df. Shape is the dimensions of the data frame selected or the # rows and # of columns"
      ]
    },
    {
      "cell_type": "code",
      "metadata": {
        "id": "PU1XbMQNLUCm",
        "colab_type": "code",
        "outputId": "8821d3b8-82af-44ec-8ade-2c3a5667c5fb",
        "colab": {
          "base_uri": "https://localhost:8080/",
          "height": 34
        }
      },
      "source": [
        "df.columns"
      ],
      "execution_count": 0,
      "outputs": [
        {
          "output_type": "execute_result",
          "data": {
            "text/plain": [
              "Index(['date', 'state', 'fips', 'cases', 'deaths'], dtype='object')"
            ]
          },
          "metadata": {
            "tags": []
          },
          "execution_count": 4
        }
      ]
    },
    {
      "cell_type": "code",
      "metadata": {
        "id": "HpwaHJjzx03V",
        "colab_type": "code",
        "outputId": "b1a9cf3f-d3f8-4fc8-ea7c-2f442321a958",
        "colab": {
          "base_uri": "https://localhost:8080/",
          "height": 34
        }
      },
      "source": [
        "df.shape"
      ],
      "execution_count": 0,
      "outputs": [
        {
          "output_type": "execute_result",
          "data": {
            "text/plain": [
              "(2273, 5)"
            ]
          },
          "metadata": {
            "tags": []
          },
          "execution_count": 6
        }
      ]
    },
    {
      "cell_type": "markdown",
      "metadata": {
        "id": "G8Ylm0vIZAi9",
        "colab_type": "text"
      },
      "source": [
        "Create an index of Dates from the source of the data till latest date"
      ]
    },
    {
      "cell_type": "code",
      "metadata": {
        "id": "nAp3c0o3M2B9",
        "colab_type": "code",
        "outputId": "6f866cff-eba0-47db-963c-ab0e20419a59",
        "colab": {
          "base_uri": "https://localhost:8080/",
          "height": 170
        }
      },
      "source": [
        "df = pd.read_csv(\"https://raw.githubusercontent.com/nytimes/covid-19-data/master/us-states.csv\")\n",
        "df[\"date\"] = pd.to_datetime(df[\"date\"])\n",
        "df = df.set_index(\"date\")\n",
        "print(f\"Columns: {df.columns}\")\n",
        "df.index"
      ],
      "execution_count": 0,
      "outputs": [
        {
          "output_type": "stream",
          "text": [
            "Columns: Index(['state', 'fips', 'cases', 'deaths'], dtype='object')\n"
          ],
          "name": "stdout"
        },
        {
          "output_type": "execute_result",
          "data": {
            "text/plain": [
              "DatetimeIndex(['2020-01-21', '2020-01-22', '2020-01-23', '2020-01-24',\n",
              "               '2020-01-24', '2020-01-25', '2020-01-25', '2020-01-25',\n",
              "               '2020-01-26', '2020-01-26',\n",
              "               ...\n",
              "               '2020-04-13', '2020-04-13', '2020-04-13', '2020-04-13',\n",
              "               '2020-04-13', '2020-04-13', '2020-04-13', '2020-04-13',\n",
              "               '2020-04-13', '2020-04-13'],\n",
              "              dtype='datetime64[ns]', name='date', length=2329, freq=None)"
            ]
          },
          "metadata": {
            "tags": []
          },
          "execution_count": 7
        }
      ]
    },
    {
      "cell_type": "markdown",
      "metadata": {
        "id": "GhnSoCPxZKk2",
        "colab_type": "text"
      },
      "source": [
        "Create the date for today, and the date two days ago (for the latest data for 2 days)"
      ]
    },
    {
      "cell_type": "code",
      "metadata": {
        "id": "1VwX1t6LNBYI",
        "colab_type": "code",
        "outputId": "1ceb5ada-c0c1-4504-a921-5b4264c17f4b",
        "colab": {
          "base_uri": "https://localhost:8080/",
          "height": 51
        }
      },
      "source": [
        "from datetime import date, timedelta\n",
        "today = date.today()\n",
        "daybefore = today - timedelta(days = 2)\n",
        "print(f\"Today {today}\")\n",
        "print(f\"Two days ago {daybefore}\")"
      ],
      "execution_count": 0,
      "outputs": [
        {
          "output_type": "stream",
          "text": [
            "Today 2020-04-15\n",
            "Two days ago 2020-04-13\n"
          ],
          "name": "stdout"
        }
      ]
    },
    {
      "cell_type": "markdown",
      "metadata": {
        "id": "r1KsbzFIZm7b",
        "colab_type": "text"
      },
      "source": [
        "Display the top 10 rows of data or head(10), bottom rows is tail()"
      ]
    },
    {
      "cell_type": "code",
      "metadata": {
        "id": "o7uEH2qKNfYQ",
        "colab_type": "code",
        "outputId": "8507dd1c-da66-4962-e488-61a31f21a049",
        "colab": {
          "base_uri": "https://localhost:8080/",
          "height": 390
        }
      },
      "source": [
        "df.loc[daybefore:today].tail(10)"
      ],
      "execution_count": 0,
      "outputs": [
        {
          "output_type": "execute_result",
          "data": {
            "text/html": [
              "<div>\n",
              "<style scoped>\n",
              "    .dataframe tbody tr th:only-of-type {\n",
              "        vertical-align: middle;\n",
              "    }\n",
              "\n",
              "    .dataframe tbody tr th {\n",
              "        vertical-align: top;\n",
              "    }\n",
              "\n",
              "    .dataframe thead th {\n",
              "        text-align: right;\n",
              "    }\n",
              "</style>\n",
              "<table border=\"1\" class=\"dataframe\">\n",
              "  <thead>\n",
              "    <tr style=\"text-align: right;\">\n",
              "      <th></th>\n",
              "      <th>state</th>\n",
              "      <th>fips</th>\n",
              "      <th>cases</th>\n",
              "      <th>deaths</th>\n",
              "    </tr>\n",
              "    <tr>\n",
              "      <th>date</th>\n",
              "      <th></th>\n",
              "      <th></th>\n",
              "      <th></th>\n",
              "      <th></th>\n",
              "    </tr>\n",
              "  </thead>\n",
              "  <tbody>\n",
              "    <tr>\n",
              "      <th>2020-04-13</th>\n",
              "      <td>Tennessee</td>\n",
              "      <td>47</td>\n",
              "      <td>5483</td>\n",
              "      <td>114</td>\n",
              "    </tr>\n",
              "    <tr>\n",
              "      <th>2020-04-13</th>\n",
              "      <td>Texas</td>\n",
              "      <td>48</td>\n",
              "      <td>14488</td>\n",
              "      <td>320</td>\n",
              "    </tr>\n",
              "    <tr>\n",
              "      <th>2020-04-13</th>\n",
              "      <td>Utah</td>\n",
              "      <td>49</td>\n",
              "      <td>2363</td>\n",
              "      <td>18</td>\n",
              "    </tr>\n",
              "    <tr>\n",
              "      <th>2020-04-13</th>\n",
              "      <td>Vermont</td>\n",
              "      <td>50</td>\n",
              "      <td>748</td>\n",
              "      <td>28</td>\n",
              "    </tr>\n",
              "    <tr>\n",
              "      <th>2020-04-13</th>\n",
              "      <td>Virgin Islands</td>\n",
              "      <td>78</td>\n",
              "      <td>51</td>\n",
              "      <td>1</td>\n",
              "    </tr>\n",
              "    <tr>\n",
              "      <th>2020-04-13</th>\n",
              "      <td>Virginia</td>\n",
              "      <td>51</td>\n",
              "      <td>5747</td>\n",
              "      <td>149</td>\n",
              "    </tr>\n",
              "    <tr>\n",
              "      <th>2020-04-13</th>\n",
              "      <td>Washington</td>\n",
              "      <td>53</td>\n",
              "      <td>10538</td>\n",
              "      <td>525</td>\n",
              "    </tr>\n",
              "    <tr>\n",
              "      <th>2020-04-13</th>\n",
              "      <td>West Virginia</td>\n",
              "      <td>54</td>\n",
              "      <td>638</td>\n",
              "      <td>9</td>\n",
              "    </tr>\n",
              "    <tr>\n",
              "      <th>2020-04-13</th>\n",
              "      <td>Wisconsin</td>\n",
              "      <td>55</td>\n",
              "      <td>3428</td>\n",
              "      <td>155</td>\n",
              "    </tr>\n",
              "    <tr>\n",
              "      <th>2020-04-13</th>\n",
              "      <td>Wyoming</td>\n",
              "      <td>56</td>\n",
              "      <td>275</td>\n",
              "      <td>1</td>\n",
              "    </tr>\n",
              "  </tbody>\n",
              "</table>\n",
              "</div>"
            ],
            "text/plain": [
              "                     state  fips  cases  deaths\n",
              "date                                           \n",
              "2020-04-13       Tennessee    47   5483     114\n",
              "2020-04-13           Texas    48  14488     320\n",
              "2020-04-13            Utah    49   2363      18\n",
              "2020-04-13         Vermont    50    748      28\n",
              "2020-04-13  Virgin Islands    78     51       1\n",
              "2020-04-13        Virginia    51   5747     149\n",
              "2020-04-13      Washington    53  10538     525\n",
              "2020-04-13   West Virginia    54    638       9\n",
              "2020-04-13       Wisconsin    55   3428     155\n",
              "2020-04-13         Wyoming    56    275       1"
            ]
          },
          "metadata": {
            "tags": []
          },
          "execution_count": 10
        }
      ]
    },
    {
      "cell_type": "code",
      "metadata": {
        "id": "dJpmfYbKNj9R",
        "colab_type": "code",
        "outputId": "e17baa76-5f41-4ab4-eaa9-2ae232ee0cf5",
        "colab": {
          "base_uri": "https://localhost:8080/",
          "height": 282
        }
      },
      "source": [
        "sns.kdeplot(df.loc[daybefore:today][\"deaths\"], shade=True)"
      ],
      "execution_count": 0,
      "outputs": [
        {
          "output_type": "execute_result",
          "data": {
            "text/plain": [
              "<matplotlib.axes._subplots.AxesSubplot at 0x7fe8da3d0828>"
            ]
          },
          "metadata": {
            "tags": []
          },
          "execution_count": 11
        },
        {
          "output_type": "display_data",
          "data": {
            "image/png": "[encoded data removed]",
            "text/plain": [
              "<Figure size 432x288 with 1 Axes>"
            ]
          },
          "metadata": {
            "tags": [],
            "needs_background": "light"
          }
        }
      ]
    },
    {
      "cell_type": "code",
      "metadata": {
        "id": "FIUEiH3TZzBB",
        "colab_type": "code",
        "outputId": "c093d7ca-4ec1-4e2e-d7d8-2187e445c367",
        "colab": {
          "base_uri": "https://localhost:8080/",
          "height": 293
        }
      },
      "source": [
        "sns.kdeplot(df.loc[daybefore:today][\"cases\"], shade=True)"
      ],
      "execution_count": 0,
      "outputs": [
        {
          "output_type": "execute_result",
          "data": {
            "text/plain": [
              "<matplotlib.axes._subplots.AxesSubplot at 0x7fe8d9ec3048>"
            ]
          },
          "metadata": {
            "tags": []
          },
          "execution_count": 12
        },
        {
          "output_type": "display_data",
          "data": {
            "image/png": "[encoded data removed]",
            "text/plain": [
              "<Figure size 432x288 with 1 Axes>"
            ]
          },
          "metadata": {
            "tags": [],
            "needs_background": "light"
          }
        }
      ]
    },
    {
      "cell_type": "markdown",
      "metadata": {
        "id": "v5TJB9l5adf7",
        "colab_type": "text"
      },
      "source": [
        "Create a data frame the identifies the top 10 states, sort by deaths and cases"
      ]
    },
    {
      "cell_type": "code",
      "metadata": {
        "id": "UaD93U-mNoea",
        "colab_type": "code",
        "outputId": "7900f9d8-3571-4c1c-efdd-3caef2b7f53f",
        "colab": {
          "base_uri": "https://localhost:8080/",
          "height": 390
        }
      },
      "source": [
        "current_df = df.loc[daybefore:today].sort_values(by=[\"deaths\", \"cases\"], ascending=False)\n",
        "current_df.head(10)"
      ],
      "execution_count": 0,
      "outputs": [
        {
          "output_type": "execute_result",
          "data": {
            "text/html": [
              "<div>\n",
              "<style scoped>\n",
              "    .dataframe tbody tr th:only-of-type {\n",
              "        vertical-align: middle;\n",
              "    }\n",
              "\n",
              "    .dataframe tbody tr th {\n",
              "        vertical-align: top;\n",
              "    }\n",
              "\n",
              "    .dataframe thead th {\n",
              "        text-align: right;\n",
              "    }\n",
              "</style>\n",
              "<table border=\"1\" class=\"dataframe\">\n",
              "  <thead>\n",
              "    <tr style=\"text-align: right;\">\n",
              "      <th></th>\n",
              "      <th>state</th>\n",
              "      <th>fips</th>\n",
              "      <th>cases</th>\n",
              "      <th>deaths</th>\n",
              "    </tr>\n",
              "    <tr>\n",
              "      <th>date</th>\n",
              "      <th></th>\n",
              "      <th></th>\n",
              "      <th></th>\n",
              "      <th></th>\n",
              "    </tr>\n",
              "  </thead>\n",
              "  <tbody>\n",
              "    <tr>\n",
              "      <th>2020-04-13</th>\n",
              "      <td>New York</td>\n",
              "      <td>36</td>\n",
              "      <td>195031</td>\n",
              "      <td>10056</td>\n",
              "    </tr>\n",
              "    <tr>\n",
              "      <th>2020-04-13</th>\n",
              "      <td>New Jersey</td>\n",
              "      <td>34</td>\n",
              "      <td>64584</td>\n",
              "      <td>2443</td>\n",
              "    </tr>\n",
              "    <tr>\n",
              "      <th>2020-04-13</th>\n",
              "      <td>Michigan</td>\n",
              "      <td>26</td>\n",
              "      <td>25487</td>\n",
              "      <td>1601</td>\n",
              "    </tr>\n",
              "    <tr>\n",
              "      <th>2020-04-13</th>\n",
              "      <td>Louisiana</td>\n",
              "      <td>22</td>\n",
              "      <td>21016</td>\n",
              "      <td>884</td>\n",
              "    </tr>\n",
              "    <tr>\n",
              "      <th>2020-04-13</th>\n",
              "      <td>Massachusetts</td>\n",
              "      <td>25</td>\n",
              "      <td>26867</td>\n",
              "      <td>844</td>\n",
              "    </tr>\n",
              "    <tr>\n",
              "      <th>2020-04-13</th>\n",
              "      <td>Illinois</td>\n",
              "      <td>17</td>\n",
              "      <td>22025</td>\n",
              "      <td>800</td>\n",
              "    </tr>\n",
              "    <tr>\n",
              "      <th>2020-04-13</th>\n",
              "      <td>California</td>\n",
              "      <td>6</td>\n",
              "      <td>24334</td>\n",
              "      <td>725</td>\n",
              "    </tr>\n",
              "    <tr>\n",
              "      <th>2020-04-13</th>\n",
              "      <td>Connecticut</td>\n",
              "      <td>9</td>\n",
              "      <td>13381</td>\n",
              "      <td>602</td>\n",
              "    </tr>\n",
              "    <tr>\n",
              "      <th>2020-04-13</th>\n",
              "      <td>Pennsylvania</td>\n",
              "      <td>42</td>\n",
              "      <td>24295</td>\n",
              "      <td>563</td>\n",
              "    </tr>\n",
              "    <tr>\n",
              "      <th>2020-04-13</th>\n",
              "      <td>Washington</td>\n",
              "      <td>53</td>\n",
              "      <td>10538</td>\n",
              "      <td>525</td>\n",
              "    </tr>\n",
              "  </tbody>\n",
              "</table>\n",
              "</div>"
            ],
            "text/plain": [
              "                    state  fips   cases  deaths\n",
              "date                                           \n",
              "2020-04-13       New York    36  195031   10056\n",
              "2020-04-13     New Jersey    34   64584    2443\n",
              "2020-04-13       Michigan    26   25487    1601\n",
              "2020-04-13      Louisiana    22   21016     884\n",
              "2020-04-13  Massachusetts    25   26867     844\n",
              "2020-04-13       Illinois    17   22025     800\n",
              "2020-04-13     California     6   24334     725\n",
              "2020-04-13    Connecticut     9   13381     602\n",
              "2020-04-13   Pennsylvania    42   24295     563\n",
              "2020-04-13     Washington    53   10538     525"
            ]
          },
          "metadata": {
            "tags": []
          },
          "execution_count": 13
        }
      ]
    },
    {
      "cell_type": "code",
      "metadata": {
        "id": "iSgm6078NzVo",
        "colab_type": "code",
        "outputId": "6de7ba4e-2d4e-4c34-8096-3c265d887fbc",
        "colab": {
          "base_uri": "https://localhost:8080/",
          "height": 34
        }
      },
      "source": [
        "current_df.shape"
      ],
      "execution_count": 0,
      "outputs": [
        {
          "output_type": "execute_result",
          "data": {
            "text/plain": [
              "(56, 4)"
            ]
          },
          "metadata": {
            "tags": []
          },
          "execution_count": 14
        }
      ]
    },
    {
      "cell_type": "code",
      "metadata": {
        "id": "tLmWg3qZOuZ2",
        "colab_type": "code",
        "outputId": "81cdc582-ef5e-4cad-9458-e672787375ce",
        "colab": {
          "base_uri": "https://localhost:8080/",
          "height": 187
        }
      },
      "source": [
        "top_ten_states = list(current_df[\"state\"].head(10).values)\n",
        "top_ten_states"
      ],
      "execution_count": 0,
      "outputs": [
        {
          "output_type": "execute_result",
          "data": {
            "text/plain": [
              "['New York',\n",
              " 'New Jersey',\n",
              " 'Michigan',\n",
              " 'Louisiana',\n",
              " 'Massachusetts',\n",
              " 'Illinois',\n",
              " 'California',\n",
              " 'Connecticut',\n",
              " 'Pennsylvania',\n",
              " 'Washington']"
            ]
          },
          "metadata": {
            "tags": []
          },
          "execution_count": 15
        }
      ]
    },
    {
      "cell_type": "code",
      "metadata": {
        "id": "DOFsflOvPD_e",
        "colab_type": "code",
        "colab": {}
      },
      "source": [
        "top_states_df = df[df['state'].isin(top_ten_states)].drop(columns=\"fips\")"
      ],
      "execution_count": 0,
      "outputs": []
    },
    {
      "cell_type": "code",
      "metadata": {
        "id": "4gmoRMAMPNn8",
        "colab_type": "code",
        "outputId": "71e31e09-5db7-4b5c-dddc-923bb428e19c",
        "colab": {
          "base_uri": "https://localhost:8080/",
          "height": 187
        }
      },
      "source": [
        "set(top_states_df.state.values)"
      ],
      "execution_count": 0,
      "outputs": [
        {
          "output_type": "execute_result",
          "data": {
            "text/plain": [
              "{'California',\n",
              " 'Connecticut',\n",
              " 'Illinois',\n",
              " 'Louisiana',\n",
              " 'Massachusetts',\n",
              " 'Michigan',\n",
              " 'New Jersey',\n",
              " 'New York',\n",
              " 'Pennsylvania',\n",
              " 'Washington'}"
            ]
          },
          "metadata": {
            "tags": []
          },
          "execution_count": 17
        }
      ]
    },
    {
      "cell_type": "markdown",
      "metadata": {
        "id": "7AcpBZfRa8Zl",
        "colab_type": "text"
      },
      "source": [
        "Use Seaborn to create a basic line plot for the top 10 states"
      ]
    },
    {
      "cell_type": "code",
      "metadata": {
        "id": "xvAA_Q6lPVr7",
        "colab_type": "code",
        "outputId": "4e36955f-7275-49d3-e578-c4316b22f3a7",
        "colab": {
          "base_uri": "https://localhost:8080/",
          "height": 503
        }
      },
      "source": [
        "import seaborn as sns\n",
        "import matplotlib.pyplot as plt\n",
        "\n",
        "plt.figure(figsize=(15,5))\n",
        "ax = sns.lmplot(x=\"cases\", y=\"deaths\",\n",
        "                    height=3.5,\n",
        "                    col=\"state\",\n",
        "                    col_wrap=5,\n",
        "                    hue=\"state\", \n",
        "                    palette=\"Set2\",\n",
        "                    data=top_states_df)\n",
        "ax.fig.subplots_adjust(wspace=.2)"
      ],
      "execution_count": 0,
      "outputs": [
        {
          "output_type": "display_data",
          "data": {
            "text/plain": [
              "<Figure size 1080x360 with 0 Axes>"
            ]
          },
          "metadata": {
            "tags": []
          }
        },
        {
          "output_type": "display_data",
          "data": {
            "image/png": "[encoded data removed]",
            "text/plain": [
              "<Figure size 1260x504 with 10 Axes>"
            ]
          },
          "metadata": {
            "tags": [],
            "needs_background": "light"
          }
        }
      ]
    },
    {
      "cell_type": "code",
      "metadata": {
        "id": "Lvoh2DDoQTwl",
        "colab_type": "code",
        "outputId": "1aaf3b1e-67fa-4cc0-c2d1-5b56ec30df75",
        "colab": {
          "base_uri": "https://localhost:8080/",
          "height": 390
        }
      },
      "source": [
        "top_states_april_current_df = top_states_df.loc[\"2020-04-12\":today].sort_values(by=[\"deaths\", \"cases\"], ascending=False)\n",
        "top_states_april_current_df.head(10)"
      ],
      "execution_count": 0,
      "outputs": [
        {
          "output_type": "execute_result",
          "data": {
            "text/html": [
              "<div>\n",
              "<style scoped>\n",
              "    .dataframe tbody tr th:only-of-type {\n",
              "        vertical-align: middle;\n",
              "    }\n",
              "\n",
              "    .dataframe tbody tr th {\n",
              "        vertical-align: top;\n",
              "    }\n",
              "\n",
              "    .dataframe thead th {\n",
              "        text-align: right;\n",
              "    }\n",
              "</style>\n",
              "<table border=\"1\" class=\"dataframe\">\n",
              "  <thead>\n",
              "    <tr style=\"text-align: right;\">\n",
              "      <th></th>\n",
              "      <th>state</th>\n",
              "      <th>cases</th>\n",
              "      <th>deaths</th>\n",
              "    </tr>\n",
              "    <tr>\n",
              "      <th>date</th>\n",
              "      <th></th>\n",
              "      <th></th>\n",
              "      <th></th>\n",
              "    </tr>\n",
              "  </thead>\n",
              "  <tbody>\n",
              "    <tr>\n",
              "      <th>2020-04-13</th>\n",
              "      <td>New York</td>\n",
              "      <td>195031</td>\n",
              "      <td>10056</td>\n",
              "    </tr>\n",
              "    <tr>\n",
              "      <th>2020-04-12</th>\n",
              "      <td>New York</td>\n",
              "      <td>188694</td>\n",
              "      <td>9385</td>\n",
              "    </tr>\n",
              "    <tr>\n",
              "      <th>2020-04-13</th>\n",
              "      <td>New Jersey</td>\n",
              "      <td>64584</td>\n",
              "      <td>2443</td>\n",
              "    </tr>\n",
              "    <tr>\n",
              "      <th>2020-04-12</th>\n",
              "      <td>New Jersey</td>\n",
              "      <td>61850</td>\n",
              "      <td>2350</td>\n",
              "    </tr>\n",
              "    <tr>\n",
              "      <th>2020-04-13</th>\n",
              "      <td>Michigan</td>\n",
              "      <td>25487</td>\n",
              "      <td>1601</td>\n",
              "    </tr>\n",
              "    <tr>\n",
              "      <th>2020-04-12</th>\n",
              "      <td>Michigan</td>\n",
              "      <td>24494</td>\n",
              "      <td>1486</td>\n",
              "    </tr>\n",
              "    <tr>\n",
              "      <th>2020-04-13</th>\n",
              "      <td>Louisiana</td>\n",
              "      <td>21016</td>\n",
              "      <td>884</td>\n",
              "    </tr>\n",
              "    <tr>\n",
              "      <th>2020-04-13</th>\n",
              "      <td>Massachusetts</td>\n",
              "      <td>26867</td>\n",
              "      <td>844</td>\n",
              "    </tr>\n",
              "    <tr>\n",
              "      <th>2020-04-12</th>\n",
              "      <td>Louisiana</td>\n",
              "      <td>20595</td>\n",
              "      <td>840</td>\n",
              "    </tr>\n",
              "    <tr>\n",
              "      <th>2020-04-13</th>\n",
              "      <td>Illinois</td>\n",
              "      <td>22025</td>\n",
              "      <td>800</td>\n",
              "    </tr>\n",
              "  </tbody>\n",
              "</table>\n",
              "</div>"
            ],
            "text/plain": [
              "                    state   cases  deaths\n",
              "date                                     \n",
              "2020-04-13       New York  195031   10056\n",
              "2020-04-12       New York  188694    9385\n",
              "2020-04-13     New Jersey   64584    2443\n",
              "2020-04-12     New Jersey   61850    2350\n",
              "2020-04-13       Michigan   25487    1601\n",
              "2020-04-12       Michigan   24494    1486\n",
              "2020-04-13      Louisiana   21016     884\n",
              "2020-04-13  Massachusetts   26867     844\n",
              "2020-04-12      Louisiana   20595     840\n",
              "2020-04-13       Illinois   22025     800"
            ]
          },
          "metadata": {
            "tags": []
          },
          "execution_count": 19
        }
      ]
    },
    {
      "cell_type": "code",
      "metadata": {
        "id": "anhVKFKEP9OB",
        "colab_type": "code",
        "outputId": "c808c02f-13b4-4406-f8dc-c867fbbfd647",
        "colab": {
          "base_uri": "https://localhost:8080/",
          "height": 34
        }
      },
      "source": [
        "df.shape"
      ],
      "execution_count": 43,
      "outputs": [
        {
          "output_type": "execute_result",
          "data": {
            "text/plain": [
              "(3204, 5)"
            ]
          },
          "metadata": {
            "tags": []
          },
          "execution_count": 43
        }
      ]
    }
  ]
}